{
  "cells": [
    {
      "cell_type": "code",
      "execution_count": null,
      "metadata": {
        "id": "EqsHARZDR4WP"
      },
      "outputs": [],
      "source": [
        "import torch\n",
        "import torch.nn as nn\n",
        "import torch.optim as optim\n",
        "import torch.utils.data as thdat\n",
        "import tqdm\n",
        "import numpy as np\n",
        "import matplotlib.pyplot as plt\n",
        "import copy\n",
        "from sklearn.preprocessing import StandardScaler\n",
        "from sklearn.linear_model import LinearRegression"
      ]
    },
    {
      "cell_type": "code",
      "execution_count": null,
      "metadata": {},
      "outputs": [],
      "source": [
        "DEVICE = torch.device(\"cuda\" if torch.cuda.is_available() else \"cpu\")\n",
        "\n",
        "\n",
        "def np_to_th(x):\n",
        "    n_samples = len(x)\n",
        "    return torch.from_numpy(x).to(torch.float).to(DEVICE).reshape(n_samples, -1)\n",
        "\n",
        "\n",
        "class Net(nn.Module):\n",
        "    def __init__(\n",
        "        self,\n",
        "        input_dim,\n",
        "        output_dim,\n",
        "        n_units=100,\n",
        "        epochs=1000,\n",
        "        loss=nn.MSELoss(),\n",
        "        lr=1e-3,\n",
        "        loss2=None,\n",
        "        loss2_weight=0.1,\n",
        "    ) -> None:\n",
        "        super().__init__()\n",
        "\n",
        "        self.epochs = epochs\n",
        "        self.loss = loss\n",
        "        self.loss2 = loss2\n",
        "        self.loss2_weight = loss2_weight\n",
        "        self.lr = lr\n",
        "        self.n_units = n_units\n",
        "\n",
        "        self.layers = nn.Sequential(\n",
        "            nn.Linear(input_dim, self.n_units),\n",
        "            nn.ReLU(),\n",
        "            nn.Linear(self.n_units, self.n_units),\n",
        "            nn.ReLU(),\n",
        "            nn.Linear(self.n_units, self.n_units),\n",
        "            nn.ReLU(),\n",
        "            nn.Linear(self.n_units, self.n_units),\n",
        "            nn.ReLU(),\n",
        "        )\n",
        "        self.out = nn.Linear(self.n_units, output_dim)\n",
        "\n",
        "    def forward(self, x):\n",
        "        h = self.layers(x)\n",
        "        out = self.out(h)\n",
        "\n",
        "        return out\n",
        "\n",
        "    def fit(self, X, y):\n",
        "        Xt = np_to_th(X)\n",
        "        yt = np_to_th(y)\n",
        "\n",
        "        optimiser = optim.Adam(self.parameters(), lr=self.lr)\n",
        "        self.train()\n",
        "        losses = []\n",
        "        for ep in range(self.epochs):\n",
        "            optimiser.zero_grad()\n",
        "            outputs = self.forward(Xt)\n",
        "            loss = self.loss(yt, outputs)\n",
        "            og_loss = self.loss(yt, outputs)\n",
        "            if self.loss2:\n",
        "                second_loss_val = self.loss2_weight * self.loss2(self)\n",
        "#                loss += self.loss2_weight + self.loss2_weight * self.loss2(self)\n",
        "                loss += second_loss_val\n",
        "            loss.backward()\n",
        "            optimiser.step()\n",
        "            losses.append(loss.item())\n",
        "            if self.loss2:\n",
        "                if ep % int(self.epochs / 10) == 0:\n",
        "                    print(f\"Epoch {ep}/{self.epochs}, original loss: {og_loss:.2f}, second loss: {second_loss_val:.2f}, total loss: {losses[-1]:.2f}\")\n",
        "            else:\n",
        "                if ep % int(self.epochs / 10) == 0:\n",
        "                    print(f\"Epoch {ep}/{self.epochs}, loss: {losses[-1]:.2f}\")\n",
        "        return losses\n",
        "\n",
        "    def predict(self, X):\n",
        "        self.eval()\n",
        "        out = self.forward(np_to_th(X))\n",
        "        return out.detach().cpu().numpy()\n",
        "\n",
        "\n",
        "class NetDiscovery(Net):\n",
        "    def __init__(\n",
        "        self,\n",
        "        input_dim,\n",
        "        output_dim,\n",
        "        n_units=100,\n",
        "        epochs=1000,\n",
        "        loss=nn.MSELoss(),\n",
        "        lr=0.001,\n",
        "        loss2=None,\n",
        "        loss2_weight=0.1,\n",
        "    ) -> None:\n",
        "        super().__init__(\n",
        "            input_dim, output_dim, n_units, epochs, loss, lr, loss2, loss2_weight\n",
        "        )\n",
        "\n",
        "        self.r = nn.Parameter(data=torch.tensor([0.]))"
      ]
    },
    {
      "cell_type": "code",
      "execution_count": null,
      "metadata": {
        "id": "37vUDZh7B9Yz"
      },
      "outputs": [],
      "source": [
        "torch.manual_seed(1)\n",
        "np.random.seed(1)"
      ]
    },
    {
      "cell_type": "code",
      "execution_count": null,
      "metadata": {
        "id": "0LWlIXjoR6Si"
      },
      "outputs": [],
      "source": [
        "expt_data_temp_train = np.array([154.196,\t158.403,\t162.597, 170.691,\t174.688,\t178.569, 187.356,\t192.663, 194.982])\n",
        "expt_data_temp_train = expt_data_temp_train.reshape(-1,1)\n",
        "expt_data_temp_val = np.array([166.704, 182.333, 195.831])\n",
        "expt_data_temp_val = expt_data_temp_val.reshape(-1,1)\n",
        "expt_data_press_train = np.array([0.015092,\t0.025864,\t0.042943,\t0.107718,\t0.162919,\t0.23986, 0.54286,\t0.85774,\t1.0394\t])\n",
        "expt_data_press_val = np.array([0.069141, 0.343771, 1.1136])"
      ]
    },
    {
      "cell_type": "code",
      "execution_count": null,
      "metadata": {
        "id": "Eti5b8xHFqkD"
      },
      "outputs": [],
      "source": [
        "def r2(pred, actual):\n",
        "  sum_residual = np.sum((pred - actual)**2)\n",
        "  total_sum_square = np.sum((actual - np.mean(actual))**2)\n",
        "  coeff_of_det = 1 - (sum_residual / total_sum_square)\n",
        "  return coeff_of_det"
      ]
    },
    {
      "cell_type": "code",
      "execution_count": null,
      "metadata": {
        "id": "PQjYECIoCtSN"
      },
      "outputs": [],
      "source": [
        "lin_reg = LinearRegression().fit(expt_data_temp_train, expt_data_press_train)"
      ]
    },
    {
      "cell_type": "code",
      "execution_count": null,
      "metadata": {
        "id": "_s9tCchmC5L6"
      },
      "outputs": [],
      "source": [
        "lin_reg_press_train_pred = lin_reg.predict(expt_data_temp_train)\n",
        "lin_reg_press_val_pred = lin_reg.predict(expt_data_temp_val)"
      ]
    },
    {
      "cell_type": "code",
      "execution_count": null,
      "metadata": {
        "colab": {
          "base_uri": "https://localhost:8080/"
        },
        "id": "1OHqSDxYDi2C",
        "outputId": "7163d4e5-223d-44e2-aecf-4f5f9dfa46bf"
      },
      "outputs": [],
      "source": [
        "print('P = {:.4f}T + ({:.4f})'.format(lin_reg.coef_[0], lin_reg.intercept_))"
      ]
    },
    {
      "cell_type": "code",
      "execution_count": null,
      "metadata": {
        "colab": {
          "base_uri": "https://localhost:8080/",
          "height": 469
        },
        "id": "Oozzs0HeYx39",
        "outputId": "a6a8b5f1-ef90-466a-cbed-025d479af8fb"
      },
      "outputs": [],
      "source": [
        "plt.scatter(expt_data_temp_train, expt_data_press_train, color='blue', marker='.', label='Training data')\n",
        "plt.scatter(expt_data_temp_val, expt_data_press_val, color='blue', marker='*', label='Testing data')\n",
        "plt.plot(expt_data_temp_train, lin_reg_press_train_pred,color='black',label='LR predictions')\n",
        "plt.plot(expt_data_temp_val, lin_reg_press_val_pred,color='black')\n",
        "plt.title('Vapor pressure of CO2')\n",
        "plt.legend()"
      ]
    },
    {
      "cell_type": "code",
      "execution_count": null,
      "metadata": {
        "colab": {
          "base_uri": "https://localhost:8080/"
        },
        "id": "vqZA2o9HGVeG",
        "outputId": "4ea4e240-52e8-4def-d125-17652f0f7c65"
      },
      "outputs": [],
      "source": [
        "print('Coefficient of determination for linear model is {:.4f}'.format(r2(lin_reg_press_train_pred, expt_data_press_train)))"
      ]
    },
    {
      "cell_type": "code",
      "execution_count": null,
      "metadata": {
        "id": "m5qLMplZTuZY"
      },
      "outputs": [],
      "source": [
        "scaler = StandardScaler()\n",
        "scaler.fit(expt_data_temp_train)\n",
        "\n",
        "scale_expt_data_temp_train = scaler.transform(expt_data_temp_train)\n",
        "scale_expt_data_temp_val = scaler.transform(expt_data_temp_val)"
      ]
    },
    {
      "cell_type": "code",
      "execution_count": null,
      "metadata": {
        "id": "G12-ifpYTUb7"
      },
      "outputs": [],
      "source": [
        "scale_expt_data_temp_train_ten = torch.tensor(scale_expt_data_temp_train, dtype=torch.float32)\n",
        "expt_data_press_train_ten = torch.tensor(expt_data_press_train.reshape(-1,1), dtype=torch.float32)\n",
        "\n",
        "scale_expt_data_temp_val_ten = torch.tensor(scale_expt_data_temp_val, dtype=torch.float32)\n",
        "expt_data_press_val_ten = torch.tensor(expt_data_press_val.reshape(-1,1), dtype=torch.float32)"
      ]
    },
    {
      "cell_type": "code",
      "execution_count": null,
      "metadata": {
        "id": "GncvhwAcTZO6"
      },
      "outputs": [],
      "source": [
        "model = nn.Sequential(\n",
        "    nn.Linear(1, 10),\n",
        "    nn.ReLU(),\n",
        "    nn.Linear(10,1)\n",
        ")"
      ]
    },
    {
      "cell_type": "code",
      "execution_count": null,
      "metadata": {
        "id": "cNGphzlETcRq"
      },
      "outputs": [],
      "source": [
        "loss_fn = nn.MSELoss()\n",
        "optimizer = optim.Adam(model.parameters(), lr=0.005)"
      ]
    },
    {
      "cell_type": "code",
      "execution_count": null,
      "metadata": {
        "id": "PPf4KzQLTeIq"
      },
      "outputs": [],
      "source": [
        "n_epochs=50\n",
        "batch_size=1\n",
        "batch_start = torch.arange(0, len(scale_expt_data_temp_train_ten), batch_size)"
      ]
    },
    {
      "cell_type": "code",
      "execution_count": null,
      "metadata": {
        "id": "mtylhMt1TiBI"
      },
      "outputs": [],
      "source": [
        "best_mse = np.inf\n",
        "best_weights = None\n",
        "history = []\n",
        "train_history = []"
      ]
    },
    {
      "cell_type": "code",
      "execution_count": null,
      "metadata": {
        "colab": {
          "base_uri": "https://localhost:8080/",
          "height": 518
        },
        "id": "cdQzVhBwTkAY",
        "outputId": "1ba81abb-2360-4d5c-b7b6-eecc68e4204f"
      },
      "outputs": [],
      "source": [
        "%%time\n",
        "for epoch in range(n_epochs):\n",
        "  model.train()\n",
        "  with tqdm.tqdm(batch_start, unit=\"batch\", mininterval=0, disable=True) as bar:\n",
        "    bar.set_description(f\"Epoch {epoch}\")\n",
        "    for start in bar:\n",
        "      X_batch = scale_expt_data_temp_train_ten[start:start+batch_size]\n",
        "      y_batch = expt_data_press_train_ten[start:start+batch_size]\n",
        "\n",
        "      y_pred = model(X_batch)\n",
        "      loss = loss_fn(y_pred, y_batch)\n",
        "\n",
        "      optimizer.zero_grad()\n",
        "      loss.backward()\n",
        "\n",
        "      optimizer.step()\n",
        "\n",
        "      bar.set_postfix(mse=float(loss))\n",
        "    model.eval()\n",
        "    expt_data_press_val_pred = model(scale_expt_data_temp_val_ten)\n",
        "    mse = loss_fn(expt_data_press_val_pred, expt_data_press_val_ten)\n",
        "    mse = float(mse)\n",
        "    history.append(mse)\n",
        "    expt_data_press_train_pred = model(scale_expt_data_temp_train_ten)\n",
        "    train_mse = loss_fn(expt_data_press_train_pred, expt_data_press_train_ten)\n",
        "    train_mse = float(train_mse)\n",
        "    train_history.append(train_mse)\n",
        "    if mse < best_mse:\n",
        "      best_mse = mse\n",
        "      best_weights = copy.deepcopy(model.state_dict())\n",
        "\n",
        "model.load_state_dict(best_weights)\n",
        "print(\"MSE: %.2f\" % best_mse)\n",
        "print(\"RMSE: %.2f\" % np.sqrt(best_mse))\n",
        "plt.plot(train_history,label='training')\n",
        "plt.plot(history,label='validation')\n",
        "plt.ylabel('MSE Loss')\n",
        "plt.xlabel('Epoch')\n",
        "plt.legend()\n",
        "plt.show()"
      ]
    },
    {
      "cell_type": "code",
      "execution_count": null,
      "metadata": {
        "id": "PeGmVVtnUm83"
      },
      "outputs": [],
      "source": [
        "expt_data_press_train_pred_ten = model(scale_expt_data_temp_train_ten)\n",
        "expt_data_press_val_pred_ten = model(scale_expt_data_temp_val_ten)\n",
        "expt_data_press_train_pred = expt_data_press_train_pred_ten.detach().numpy()\n",
        "expt_data_press_val_pred = expt_data_press_val_pred_ten.detach().numpy()\n",
        "expt_data_press_train_pred = expt_data_press_train_pred.reshape(-1)\n",
        "expt_data_press_val_pred = expt_data_press_val_pred.reshape(-1)"
      ]
    },
    {
      "cell_type": "code",
      "execution_count": null,
      "metadata": {
        "colab": {
          "base_uri": "https://localhost:8080/"
        },
        "id": "VRJkmwtSTUWG",
        "outputId": "02873e77-2cbc-4c13-e705-97d118431659"
      },
      "outputs": [],
      "source": [
        "expt_data_press_train_pred"
      ]
    },
    {
      "cell_type": "code",
      "execution_count": null,
      "metadata": {
        "colab": {
          "base_uri": "https://localhost:8080/"
        },
        "id": "Tf8s-N6nWvEh",
        "outputId": "9111c52e-aa6d-47ea-8d2c-273d36c0ad5b"
      },
      "outputs": [],
      "source": [
        "print('Coefficient of determination for the ANN is {:.4f}'.format(r2(expt_data_press_train_pred, expt_data_press_train)))"
      ]
    },
    {
      "cell_type": "code",
      "execution_count": null,
      "metadata": {
        "colab": {
          "base_uri": "https://localhost:8080/",
          "height": 489
        },
        "id": "xFoRzBItXjgO",
        "outputId": "866a77bf-5a86-493f-f6d2-35d676bfd217"
      },
      "outputs": [],
      "source": [
        "x = np.linspace(154.196, 195.831, num=100)\n",
        "x= x.reshape(-1,1)\n",
        "scale_x = scaler.transform(x)\n",
        "x_ten =  torch.tensor(scale_x, dtype=torch.float32)\n",
        "y_ten = model(x_ten)\n",
        "y = y_ten.detach().numpy()\n",
        "plt.plot(x,y,color='black',label='ANN predictions')\n",
        "plt.scatter(expt_data_temp_train, expt_data_press_train, marker='.',color='blue', label='Expt. data training')\n",
        "plt.scatter(expt_data_temp_val, expt_data_press_val, marker='*', color='blue',label='Expt. data validation')\n",
        "plt.xticks([150,160,170,180,190,200])\n",
        "plt.yticks([0,0.1,0.2,0.3,0.4,0.5,0.6,0.7,0.8,0.9,1.0,1.1,1.2])\n",
        "plt.xlabel('Temperature (K)')\n",
        "plt.ylabel('Pressure (bar)')\n",
        "plt.title('Vapor pressure of CO2')\n",
        "plt.legend()"
      ]
    },
    {
      "cell_type": "code",
      "execution_count": null,
      "metadata": {
        "id": "qm1HoeCZ3B_T"
      },
      "outputs": [],
      "source": [
        "new_expt_data_temp = np.array([217.113,\t217.654,\t218.252,\t218.87,\t220.655,\n",
        "                               227.282,\t233.911,\t241.648,\t246.905,\t251.974,\n",
        "                               253.907,\t260.79,\t267.746,\t271.473,\t272.379,\n",
        "                               273.165,\t274.186,\t275.171,\t276.165])\n",
        "new_expt_data_press = np.array([5.303249175,\t5.42879085,\t5.568315375,\t5.71776975,\t6.163093125,\n",
        "                                8.046116925,\t10.33211025,\t13.569444,\t16.1613375,\t18.9903315,\n",
        "                                20.15860875,\t24.747618,\t30.1198695,\t33.32477925,\t34.1404455,\n",
        "                                34.8558,\t35.81332125,\t36.748551,\t37.7151915])"
      ]
    },
    {
      "cell_type": "code",
      "execution_count": null,
      "metadata": {
        "id": "kZow9wQi0GFE"
      },
      "outputs": [],
      "source": [
        "new_expt_data_temp = new_expt_data_temp.reshape(-1,1)\n",
        "scale_new_expt_data_temp = scaler.transform(new_expt_data_temp)\n",
        "scale_new_expt_data_temp_ten = torch.tensor(scale_new_expt_data_temp, dtype=torch.float32)\n",
        "new_expt_data_press_pred_ten = model(scale_new_expt_data_temp_ten)\n",
        "new_expt_data_press_pred = new_expt_data_press_pred_ten.detach().numpy()"
      ]
    },
    {
      "cell_type": "code",
      "execution_count": null,
      "metadata": {
        "colab": {
          "base_uri": "https://localhost:8080/",
          "height": 489
        },
        "id": "L5MMP7v4MO6N",
        "outputId": "1e1809b0-d78d-4091-fc9c-0df99ebb1872"
      },
      "outputs": [],
      "source": [
        "x = np.linspace(154.196, 195.831, num=100)\n",
        "x= x.reshape(-1,1)\n",
        "x_ext = np.linspace(195.832, 276.165, num=100)\n",
        "x_ext = x_ext.reshape(-1,1)\n",
        "scale_x = scaler.transform(x)\n",
        "scale_x_ext = scaler.transform(x_ext)\n",
        "x_ten =  torch.tensor(scale_x, dtype=torch.float32)\n",
        "x_ext_ten = torch.tensor(scale_x_ext, dtype=torch.float32)\n",
        "y_ten = model(x_ten)\n",
        "y_ext_ten = model(x_ext_ten)\n",
        "y = y_ten.detach().numpy()\n",
        "y_ext = y_ext_ten.detach().numpy()\n",
        "plt.plot(x,y,color='black',label='ANN predictions')\n",
        "plt.plot(x_ext,y_ext,color='black',linestyle='--',label='ANN extrapolated predictions')\n",
        "plt.scatter(expt_data_temp_train, expt_data_press_train, marker='.',color='blue', label='Expt. data training')\n",
        "plt.scatter(expt_data_temp_val, expt_data_press_val, marker='*', color='blue',label='Expt. data validation')\n",
        "plt.scatter(new_expt_data_temp, new_expt_data_press, marker='p', color='blue', label='New experiment')\n",
        "plt.xticks([150,170,190,210,230,250,270])\n",
        "plt.yticks([0,5,10,15,20,25,30,35,40])\n",
        "plt.xlabel('Temperature (K)')\n",
        "plt.ylabel('Pressure (bar)')\n",
        "plt.title('Vapor pressure of CO2')\n",
        "plt.legend()"
      ]
    },
    {
      "cell_type": "code",
      "execution_count": null,
      "metadata": {
        "id": "R1OTcsc9JgGW"
      },
      "outputs": [],
      "source": [
        "scaled_new_expt_data_temp = scaler.transform(new_expt_data_temp)\n",
        "scaled_new_expt_data_temp = torch.tensor(scaled_new_expt_data_temp, dtype=torch.float32)\n",
        "new_expt_data_press_pred = model(scaled_new_expt_data_temp)\n",
        "new_expt_data_press_pred = new_expt_data_press_pred.detach().numpy()\n",
        "new_expt_data_press_pred = new_expt_data_press_pred.reshape(-1)"
      ]
    },
    {
      "cell_type": "code",
      "execution_count": null,
      "metadata": {
        "colab": {
          "base_uri": "https://localhost:8080/"
        },
        "id": "rpTTeMqkJVpU",
        "outputId": "1f15c1f5-30c0-498c-8d10-5d1c08ae4066"
      },
      "outputs": [],
      "source": [
        "print('Coefficient of determination on new experimental data for the ANN is {:.4f}'.format(r2(new_expt_data_press_pred, new_expt_data_press)))"
      ]
    },
    {
      "cell_type": "code",
      "execution_count": null,
      "metadata": {
        "colab": {
          "base_uri": "https://localhost:8080/",
          "height": 489
        },
        "id": "gTEBCCBV0gcn",
        "outputId": "72731573-cf35-406f-bb29-eb8b45a2c1b3"
      },
      "outputs": [],
      "source": [
        "x = np.linspace(154.196, 195.831, num=100)\n",
        "x= x.reshape(-1,1)\n",
        "x_ext = np.linspace(195.832, 276.165, num=100)\n",
        "x_ext = x_ext.reshape(-1,1)\n",
        "scale_x = scaler.transform(x)\n",
        "scale_x_ext = scaler.transform(x_ext)\n",
        "x_ten =  torch.tensor(scale_x, dtype=torch.float32)\n",
        "x_ext_ten = torch.tensor(scale_x_ext, dtype=torch.float32)\n",
        "y_ten = model(x_ten)\n",
        "y_ext_ten = model(x_ext_ten)\n",
        "y = y_ten.detach().numpy()\n",
        "y_ext = y_ext_ten.detach().numpy()\n",
        "plt.plot([154.196, 195.831],[-0.2044844,0.8821891],color='black',label='LR predictions')\n",
        "plt.plot([195.832,276.165],[0.8822152,2.9789065],color='black',linestyle='--',label='LR extrapolated predictions')\n",
        "plt.scatter(expt_data_temp_train, expt_data_press_train, marker='.',color='blue', label='Expt. data training')\n",
        "plt.scatter(expt_data_temp_val, expt_data_press_val, marker='*', color='blue',label='Expt. data validation')\n",
        "plt.scatter(new_expt_data_temp, new_expt_data_press, marker='p', color='blue', label='New experiment')\n",
        "plt.xticks([150,170,190,210,230,250,270])\n",
        "plt.yticks([0,5,10,15,20,25,30,35,40])\n",
        "plt.xlabel('Temperature (K)')\n",
        "plt.ylabel('Pressure (bar)')\n",
        "plt.title('Vapor pressure of CO2')\n",
        "plt.legend()"
      ]
    },
    {
      "cell_type": "code",
      "execution_count": null,
      "metadata": {
        "id": "KNlUPkrrKWM3"
      },
      "outputs": [],
      "source": [
        "lin_reg_new_expt_data_press_pred = lin_reg.predict(new_expt_data_temp)"
      ]
    },
    {
      "cell_type": "code",
      "execution_count": null,
      "metadata": {
        "colab": {
          "base_uri": "https://localhost:8080/"
        },
        "id": "XKnkehBcK7od",
        "outputId": "7e2e216c-96be-491b-a439-d2b049114008"
      },
      "outputs": [],
      "source": [
        "print('Coefficient of determination on new experimental data for linear regression is {:.4f}'.format(r2(lin_reg_new_expt_data_press_pred, new_expt_data_press)))"
      ]
    },
    {
      "cell_type": "code",
      "execution_count": null,
      "metadata": {
        "id": "iiFAZs6zV08C"
      },
      "outputs": [],
      "source": [
        "expt_data_invtemp_train = 1/expt_data_temp_train\n",
        "expt_data_invtemp_val = 1/expt_data_temp_val\n",
        "expt_data_lnpress_train = np.log(expt_data_press_train)\n",
        "expt_data_lnpress_val = np.log(expt_data_press_val)"
      ]
    },
    {
      "cell_type": "code",
      "execution_count": null,
      "metadata": {
        "id": "0wG__JyhWqpe"
      },
      "outputs": [],
      "source": [
        "phy_scaler = StandardScaler()\n",
        "phy_scaler.fit(expt_data_invtemp_train)\n",
        "\n",
        "scale_expt_data_invtemp_train = phy_scaler.transform(expt_data_invtemp_train)\n",
        "scale_expt_data_invtemp_val = phy_scaler.transform(expt_data_invtemp_val)"
      ]
    },
    {
      "cell_type": "code",
      "execution_count": null,
      "metadata": {
        "id": "pgsUl_jPXEtR"
      },
      "outputs": [],
      "source": [
        "scale_expt_data_invtemp_train_ten = torch.tensor(scale_expt_data_invtemp_train, dtype=torch.float32)\n",
        "expt_data_lnpress_train_ten = torch.tensor(expt_data_lnpress_train.reshape(-1,1), dtype=torch.float32)\n",
        "\n",
        "scale_expt_data_invtemp_val_ten = torch.tensor(scale_expt_data_invtemp_val, dtype=torch.float32)\n",
        "expt_data_lnpress_val_ten = torch.tensor(expt_data_lnpress_val.reshape(-1,1), dtype=torch.float32)"
      ]
    },
    {
      "cell_type": "code",
      "execution_count": null,
      "metadata": {
        "id": "rEBpfrxDXPFM"
      },
      "outputs": [],
      "source": [
        "phy_model = nn.Sequential(\n",
        "    nn.Linear(1, 10),\n",
        "    nn.ReLU(),\n",
        "    nn.Linear(10,1)\n",
        ")"
      ]
    },
    {
      "cell_type": "code",
      "execution_count": null,
      "metadata": {
        "id": "EVmhPpqpXbYp"
      },
      "outputs": [],
      "source": [
        "loss_fn = nn.MSELoss()\n",
        "phy_optimizer = optim.Adam(phy_model.parameters(), lr=0.005)"
      ]
    },
    {
      "cell_type": "code",
      "execution_count": null,
      "metadata": {
        "id": "8pg6G91zXlHG"
      },
      "outputs": [],
      "source": [
        "phy_n_epochs=50\n",
        "phy_batch_size=1\n",
        "phy_batch_start = torch.arange(0, len(scale_expt_data_invtemp_train_ten), phy_batch_size)"
      ]
    },
    {
      "cell_type": "code",
      "execution_count": null,
      "metadata": {
        "id": "G2ZCg0dwXra-"
      },
      "outputs": [],
      "source": [
        "phy_best_mse = np.inf\n",
        "phy_best_weights = None\n",
        "phy_history = []\n",
        "phy_train_history = []"
      ]
    },
    {
      "cell_type": "code",
      "execution_count": null,
      "metadata": {
        "colab": {
          "base_uri": "https://localhost:8080/",
          "height": 518
        },
        "id": "wf1zDrPrX3rh",
        "outputId": "3b06980f-37da-4775-b485-3454c81a150f"
      },
      "outputs": [],
      "source": [
        "%%time\n",
        "for epoch in range(phy_n_epochs):\n",
        "  phy_model.train()\n",
        "  with tqdm.tqdm(phy_batch_start, unit=\"batch\", mininterval=0, disable=True) as bar:\n",
        "    bar.set_description(f\"Epoch {epoch}\")\n",
        "    for start in bar:\n",
        "      X_batch = scale_expt_data_invtemp_train_ten[start:start+phy_batch_size]\n",
        "      y_batch = expt_data_lnpress_train_ten[start:start+phy_batch_size]\n",
        "\n",
        "      y_pred = phy_model(X_batch)\n",
        "      phy_loss = loss_fn(y_pred, y_batch)\n",
        "\n",
        "      phy_optimizer.zero_grad()\n",
        "      phy_loss.backward()\n",
        "\n",
        "      phy_optimizer.step()\n",
        "\n",
        "      bar.set_postfix(mse=float(phy_loss))\n",
        "    phy_model.eval()\n",
        "    expt_data_lnpress_val_pred = phy_model(scale_expt_data_invtemp_val_ten)\n",
        "    mse = loss_fn(expt_data_lnpress_val_pred, expt_data_lnpress_val_ten)\n",
        "    mse = float(mse)\n",
        "    phy_history.append(mse)\n",
        "    expt_data_lnpress_train_pred = phy_model(scale_expt_data_invtemp_train_ten)\n",
        "    train_mse = loss_fn(expt_data_lnpress_train_pred, expt_data_lnpress_train_ten)\n",
        "    train_mse = float(train_mse)\n",
        "    phy_train_history.append(train_mse)\n",
        "    if mse < phy_best_mse:\n",
        "      phy_best_mse = mse\n",
        "      phy_best_weights = copy.deepcopy(phy_model.state_dict())\n",
        "\n",
        "phy_model.load_state_dict(phy_best_weights)\n",
        "print(\"MSE: %.2f\" % phy_best_mse)\n",
        "print(\"RMSE: %.2f\" % np.sqrt(phy_best_mse))\n",
        "plt.plot(phy_train_history,label='training')\n",
        "plt.plot(phy_history,label='validation')\n",
        "plt.ylabel('MSE Loss')\n",
        "plt.xlabel('Epoch')\n",
        "plt.legend()\n",
        "plt.show()"
      ]
    },
    {
      "cell_type": "code",
      "execution_count": null,
      "metadata": {
        "id": "UmKrYqMxbGZB"
      },
      "outputs": [],
      "source": [
        "expt_data_lnpress_train_pred_ten = phy_model(scale_expt_data_invtemp_train_ten)\n",
        "expt_data_lnpress_val_pred_ten = phy_model(scale_expt_data_invtemp_val_ten)\n",
        "expt_data_lnpress_train_pred = expt_data_lnpress_train_pred_ten.detach().numpy()\n",
        "expt_data_lnpress_val_pred = expt_data_lnpress_val_pred_ten.detach().numpy()\n",
        "expt_data_lnpress_train_pred = expt_data_lnpress_train_pred.reshape(-1)\n",
        "expt_data_lnpress_val_pred = expt_data_lnpress_val_pred.reshape(-1)"
      ]
    },
    {
      "cell_type": "code",
      "execution_count": null,
      "metadata": {
        "colab": {
          "base_uri": "https://localhost:8080/"
        },
        "id": "rHiBZnqVbrLr",
        "outputId": "f8b02e04-3f82-4c17-dbc2-bfca1a817c4e"
      },
      "outputs": [],
      "source": [
        "print('Coefficient of determination for feature-engineered ANN is {:.4f}'.format(r2(expt_data_lnpress_train_pred, expt_data_lnpress_train)))"
      ]
    },
    {
      "cell_type": "code",
      "execution_count": null,
      "metadata": {
        "id": "G9j7VnY5cC5e"
      },
      "outputs": [],
      "source": [
        "new_expt_data_invtemp = 1/new_expt_data_temp\n",
        "new_expt_data_lnpress = np.log(new_expt_data_press)"
      ]
    },
    {
      "cell_type": "code",
      "execution_count": null,
      "metadata": {
        "id": "SOdGYOdWcHQX"
      },
      "outputs": [],
      "source": [
        "new_expt_data_temp_ten = torch.tensor(new_expt_data_temp.reshape(-1,1), dtype=torch.float32)\n",
        "new_expt_data_press_pred_ten = model(new_expt_data_temp_ten)\n",
        "new_expt_data_press_pred = new_expt_data_press_pred_ten.detach().numpy()"
      ]
    },
    {
      "cell_type": "code",
      "execution_count": null,
      "metadata": {
        "colab": {
          "base_uri": "https://localhost:8080/",
          "height": 489
        },
        "id": "VFVV7gP4cHmD",
        "outputId": "58f7190f-8e89-4d7e-8a46-20105f8427b8"
      },
      "outputs": [],
      "source": [
        "x = np.linspace(1/195.831, 1/154.196, num=100)\n",
        "x= x.reshape(-1,1)\n",
        "x_ext = np.linspace(1/276.165, 1/195.832, num=100)\n",
        "x_ext = x_ext.reshape(-1,1)\n",
        "scale_x = phy_scaler.transform(x)\n",
        "scale_x_ext = phy_scaler.transform(x_ext)\n",
        "x_ten =  torch.tensor(scale_x, dtype=torch.float32)\n",
        "x_ext_ten = torch.tensor(scale_x_ext, dtype=torch.float32)\n",
        "y_ten = phy_model(x_ten)\n",
        "y_ext_ten = phy_model(x_ext_ten)\n",
        "y = y_ten.detach().numpy()\n",
        "y_ext = y_ext_ten.detach().numpy()\n",
        "plt.plot(x,y,color='black',label='ANN predictions')\n",
        "plt.plot(x_ext,y_ext,color='black',linestyle='--',label='ANN extrapolated predictions')\n",
        "plt.scatter(expt_data_invtemp_train, expt_data_lnpress_train, marker='.',color='blue', label='Expt. data training')\n",
        "plt.scatter(expt_data_invtemp_val, expt_data_lnpress_val, marker='*', color='blue',label='Expt. data validation')\n",
        "plt.scatter(new_expt_data_invtemp, new_expt_data_lnpress, marker='p', color='blue', label='New experiment')\n",
        "plt.xticks([0.003,.0035,.004,.0045,.005,.0055,.006,.0065,.007])\n",
        "plt.yticks([-5,-4,-3,-2,-1,0,1,2,3,4,5])\n",
        "plt.xlabel('1/T (1/K)')\n",
        "plt.ylabel('ln P')\n",
        "plt.title('Vapor pressure of CO2')\n",
        "plt.legend()"
      ]
    },
    {
      "cell_type": "code",
      "execution_count": null,
      "metadata": {
        "id": "jfEU_Hpac7sn"
      },
      "outputs": [],
      "source": [
        "scaled_new_expt_data_invtemp = phy_scaler.transform(new_expt_data_invtemp)\n",
        "scaled_new_expt_data_invtemp = torch.tensor(scaled_new_expt_data_invtemp, dtype=torch.float32)\n",
        "new_expt_data_lnpress_pred = phy_model(scaled_new_expt_data_invtemp)\n",
        "new_expt_data_lnpress_pred = new_expt_data_lnpress_pred.detach().numpy()\n",
        "new_expt_data_lnpress_pred = new_expt_data_lnpress_pred.reshape(-1)"
      ]
    },
    {
      "cell_type": "code",
      "execution_count": null,
      "metadata": {
        "colab": {
          "base_uri": "https://localhost:8080/"
        },
        "id": "pHNZgI9ZcyYJ",
        "outputId": "9c1b5cfd-39f2-408e-b307-3e7169c59159"
      },
      "outputs": [],
      "source": [
        "print('Coefficient of determination on new experimental data for feature engineered ANN is {:.4f}'.format(r2(new_expt_data_lnpress_pred, new_expt_data_lnpress)))"
      ]
    }
  ],
  "metadata": {
    "colab": {
      "provenance": []
    },
    "kernelspec": {
      "display_name": "Python 3",
      "name": "python3"
    },
    "language_info": {
      "codemirror_mode": {
        "name": "ipython",
        "version": 3
      },
      "file_extension": ".py",
      "mimetype": "text/x-python",
      "name": "python",
      "nbconvert_exporter": "python",
      "pygments_lexer": "ipython3",
      "version": "3.9.13"
    }
  },
  "nbformat": 4,
  "nbformat_minor": 0
}
