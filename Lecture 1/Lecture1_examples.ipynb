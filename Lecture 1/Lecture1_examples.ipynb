{
 "cells": [
  {
   "cell_type": "markdown",
   "metadata": {},
   "source": [
    "## Normal equation"
   ]
  },
  {
   "cell_type": "code",
   "execution_count": null,
   "metadata": {},
   "outputs": [],
   "source": [
    "import numpy as np \n",
    "import matplotlib.pyplot as plt\n",
    "\n",
    "# Generate some example data\n",
    "X = np.linspace(0, 10, 100) # Input features (in this case, a single feature)\n",
    "y = 3* X + 2 + np.random.normal(size=X.size) # Target variable\n",
    "\n",
    "# Add a column of ones to X for the bias term (intercept)\n",
    "X_b = np.c_[np.ones((X.shape[0], 1)), X]\n",
    "\n",
    "# Solve the normal equation to find the coefficients (theta)\n",
    "theta = np.linalg.inv(X_b.T.dot(X_b)).dot(X_b.T).dot(y)\n",
    "\n",
    "# Predict values using the calculated coefficients\n",
    "X_test = np.linspace(0, 10, 100).reshape(-1, 1)\n",
    "X_test_b = np.c_[np.ones((X_test.shape[0], 1)), X_test]\n",
    "y_pred = X_test_b.dot(theta)\n",
    "\n",
    "# Plot the original data points and the regression line\n",
    "plt.scatter(X, y, label=\"Training Data\", color=\"blue\")\n",
    "plt.plot(X_test, y_pred, label=\"Regression Line\", color=\"red\")\n",
    "plt.xlabel(\"X\")\n",
    "plt.ylabel(\"y\")\n",
    "plt.legend()\n",
    "plt.show()\n",
    "\n",
    "# Print the calculated coefficients (intercept and slope)\n",
    "print(\"Intercept:\", theta[0])\n",
    "print(\"Coefficient:\", theta[1])"
   ]
  },
  {
   "cell_type": "markdown",
   "metadata": {},
   "source": [
    "## Polynomial regression"
   ]
  },
  {
   "cell_type": "code",
   "execution_count": null,
   "metadata": {},
   "outputs": [],
   "source": [
    "import numpy as np\n",
    "import matplotlib.pyplot as plt\n",
    "from sklearn.linear_model import LinearRegression\n",
    "from sklearn.preprocessing import PolynomialFeatures\n",
    "np.random.seed(3)\n",
    "# Generating the curve\n",
    "x = np.linspace(0, 1, 400)\n",
    "y = np.sin(2*np.pi * x) # Generating and plotting the blue circles\n",
    "x_points = np.linspace(0, 1, 10)\n",
    "y_points = np.sin(2*np.pi * x_points) + np.random.normal(0,0.2,10)\n",
    "plt.scatter(x_points, y_points, color='blue', edgecolors='black')\n",
    "polynomial_features = PolynomialFeatures(degree=3)\n",
    "x_poly_train = polynomial_features.fit_transform(x_points.reshape(-1, 1))\n",
    "x_poly_test = polynomial_features.transform(x.reshape(-1, 1))\n",
    "# Training the model\n",
    "model = LinearRegression().fit(x_poly_train, y_points) # Predicting\n",
    "y_poly_pred_test = model.predict(x_poly_test) # Setting axis labels\n",
    "plt.xlabel('x')\n",
    "plt.ylabel('t') # Displaying the grid\n",
    "plt.grid(True, which='both', linestyle='--', linewidth=0.5)\n",
    "plt.axhline(y=0, color='k', linewidth=0.8)\n",
    "plt.axvline(x=0, color='k', linewidth=0.8)\n",
    "plt.plot(x, y_poly_pred_test, c = 'r')\n",
    "# Adjusting the y-axis limit\n",
    "plt.ylim(-1.5, 1.5)\n",
    "plt.legend()\n",
    "# Displaying the plot\n",
    "plt.show()"
   ]
  },
  {
   "cell_type": "code",
   "execution_count": null,
   "metadata": {},
   "outputs": [],
   "source": []
  }
 ],
 "metadata": {
  "kernelspec": {
   "display_name": "Python 3",
   "language": "python",
   "name": "python3"
  },
  "language_info": {
   "codemirror_mode": {
    "name": "ipython",
    "version": 3
   },
   "file_extension": ".py",
   "mimetype": "text/x-python",
   "name": "python",
   "nbconvert_exporter": "python",
   "pygments_lexer": "ipython3",
   "version": "3.9.13"
  }
 },
 "nbformat": 4,
 "nbformat_minor": 2
}
