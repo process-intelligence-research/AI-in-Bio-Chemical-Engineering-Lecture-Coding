{
 "cells": [
  {
   "cell_type": "code",
   "execution_count": 1,
   "metadata": {},
   "outputs": [
    {
     "name": "stdout",
     "output_type": "stream",
     "text": [
      "Requirement already satisfied: rdkit in c:\\users\\qinghegao\\git\\ai-in-bio-chemical-engineering-lecture-coding\\venv\\lib\\site-packages (2024.9.6)\n",
      "Requirement already satisfied: numpy in c:\\users\\qinghegao\\git\\ai-in-bio-chemical-engineering-lecture-coding\\venv\\lib\\site-packages (from rdkit) (2.2.3)\n",
      "Requirement already satisfied: Pillow in c:\\users\\qinghegao\\git\\ai-in-bio-chemical-engineering-lecture-coding\\venv\\lib\\site-packages (from rdkit) (11.1.0)\n"
     ]
    },
    {
     "name": "stderr",
     "output_type": "stream",
     "text": [
      "\n",
      "[notice] A new release of pip is available: 24.3.1 -> 25.0.1\n",
      "[notice] To update, run: python.exe -m pip install --upgrade pip\n"
     ]
    },
    {
     "name": "stdout",
     "output_type": "stream",
     "text": [
      "Collecting dgl\n",
      "  Using cached dgl-2.2.1-cp312-cp312-win_amd64.whl.metadata (595 bytes)\n",
      "Requirement already satisfied: numpy>=1.14.0 in c:\\users\\qinghegao\\git\\ai-in-bio-chemical-engineering-lecture-coding\\venv\\lib\\site-packages (from dgl) (2.2.3)\n",
      "Requirement already satisfied: scipy>=1.1.0 in c:\\users\\qinghegao\\git\\ai-in-bio-chemical-engineering-lecture-coding\\venv\\lib\\site-packages (from dgl) (1.15.2)\n",
      "Requirement already satisfied: networkx>=2.1 in c:\\users\\qinghegao\\git\\ai-in-bio-chemical-engineering-lecture-coding\\venv\\lib\\site-packages (from dgl) (3.4.2)\n",
      "Requirement already satisfied: requests>=2.19.0 in c:\\users\\qinghegao\\git\\ai-in-bio-chemical-engineering-lecture-coding\\venv\\lib\\site-packages (from dgl) (2.32.3)\n",
      "Requirement already satisfied: tqdm in c:\\users\\qinghegao\\git\\ai-in-bio-chemical-engineering-lecture-coding\\venv\\lib\\site-packages (from dgl) (4.67.1)\n",
      "Requirement already satisfied: psutil>=5.8.0 in c:\\users\\qinghegao\\git\\ai-in-bio-chemical-engineering-lecture-coding\\venv\\lib\\site-packages (from dgl) (7.0.0)\n",
      "Collecting torchdata>=0.5.0 (from dgl)\n",
      "  Using cached torchdata-0.11.0-py3-none-any.whl.metadata (6.3 kB)\n",
      "Requirement already satisfied: pandas in c:\\users\\qinghegao\\git\\ai-in-bio-chemical-engineering-lecture-coding\\venv\\lib\\site-packages (from dgl) (2.2.3)\n",
      "Requirement already satisfied: charset-normalizer<4,>=2 in c:\\users\\qinghegao\\git\\ai-in-bio-chemical-engineering-lecture-coding\\venv\\lib\\site-packages (from requests>=2.19.0->dgl) (3.4.1)\n",
      "Requirement already satisfied: idna<4,>=2.5 in c:\\users\\qinghegao\\git\\ai-in-bio-chemical-engineering-lecture-coding\\venv\\lib\\site-packages (from requests>=2.19.0->dgl) (3.10)\n",
      "Requirement already satisfied: urllib3<3,>=1.21.1 in c:\\users\\qinghegao\\git\\ai-in-bio-chemical-engineering-lecture-coding\\venv\\lib\\site-packages (from requests>=2.19.0->dgl) (2.3.0)\n",
      "Requirement already satisfied: certifi>=2017.4.17 in c:\\users\\qinghegao\\git\\ai-in-bio-chemical-engineering-lecture-coding\\venv\\lib\\site-packages (from requests>=2.19.0->dgl) (2025.1.31)\n",
      "Requirement already satisfied: torch>=2 in c:\\users\\qinghegao\\git\\ai-in-bio-chemical-engineering-lecture-coding\\venv\\lib\\site-packages (from torchdata>=0.5.0->dgl) (2.6.0)\n",
      "Requirement already satisfied: python-dateutil>=2.8.2 in c:\\users\\qinghegao\\git\\ai-in-bio-chemical-engineering-lecture-coding\\venv\\lib\\site-packages (from pandas->dgl) (2.9.0.post0)\n",
      "Requirement already satisfied: pytz>=2020.1 in c:\\users\\qinghegao\\git\\ai-in-bio-chemical-engineering-lecture-coding\\venv\\lib\\site-packages (from pandas->dgl) (2025.1)\n",
      "Requirement already satisfied: tzdata>=2022.7 in c:\\users\\qinghegao\\git\\ai-in-bio-chemical-engineering-lecture-coding\\venv\\lib\\site-packages (from pandas->dgl) (2025.1)\n",
      "Requirement already satisfied: colorama in c:\\users\\qinghegao\\git\\ai-in-bio-chemical-engineering-lecture-coding\\venv\\lib\\site-packages (from tqdm->dgl) (0.4.6)\n",
      "Requirement already satisfied: six>=1.5 in c:\\users\\qinghegao\\git\\ai-in-bio-chemical-engineering-lecture-coding\\venv\\lib\\site-packages (from python-dateutil>=2.8.2->pandas->dgl) (1.17.0)\n",
      "Requirement already satisfied: filelock in c:\\users\\qinghegao\\git\\ai-in-bio-chemical-engineering-lecture-coding\\venv\\lib\\site-packages (from torch>=2->torchdata>=0.5.0->dgl) (3.18.0)\n",
      "Requirement already satisfied: typing-extensions>=4.10.0 in c:\\users\\qinghegao\\git\\ai-in-bio-chemical-engineering-lecture-coding\\venv\\lib\\site-packages (from torch>=2->torchdata>=0.5.0->dgl) (4.12.2)\n",
      "Requirement already satisfied: jinja2 in c:\\users\\qinghegao\\git\\ai-in-bio-chemical-engineering-lecture-coding\\venv\\lib\\site-packages (from torch>=2->torchdata>=0.5.0->dgl) (3.1.6)\n",
      "Requirement already satisfied: fsspec in c:\\users\\qinghegao\\git\\ai-in-bio-chemical-engineering-lecture-coding\\venv\\lib\\site-packages (from torch>=2->torchdata>=0.5.0->dgl) (2025.3.0)\n",
      "Requirement already satisfied: setuptools in c:\\users\\qinghegao\\git\\ai-in-bio-chemical-engineering-lecture-coding\\venv\\lib\\site-packages (from torch>=2->torchdata>=0.5.0->dgl) (76.0.0)\n",
      "Requirement already satisfied: sympy==1.13.1 in c:\\users\\qinghegao\\git\\ai-in-bio-chemical-engineering-lecture-coding\\venv\\lib\\site-packages (from torch>=2->torchdata>=0.5.0->dgl) (1.13.1)\n",
      "Requirement already satisfied: mpmath<1.4,>=1.1.0 in c:\\users\\qinghegao\\git\\ai-in-bio-chemical-engineering-lecture-coding\\venv\\lib\\site-packages (from sympy==1.13.1->torch>=2->torchdata>=0.5.0->dgl) (1.3.0)\n",
      "Requirement already satisfied: MarkupSafe>=2.0 in c:\\users\\qinghegao\\git\\ai-in-bio-chemical-engineering-lecture-coding\\venv\\lib\\site-packages (from jinja2->torch>=2->torchdata>=0.5.0->dgl) (3.0.2)\n",
      "Using cached dgl-2.2.1-cp312-cp312-win_amd64.whl (5.3 MB)\n",
      "Using cached torchdata-0.11.0-py3-none-any.whl (61 kB)\n",
      "Installing collected packages: torchdata, dgl\n",
      "Successfully installed dgl-2.2.1 torchdata-0.11.0\n"
     ]
    },
    {
     "name": "stderr",
     "output_type": "stream",
     "text": [
      "\n",
      "[notice] A new release of pip is available: 24.3.1 -> 25.0.1\n",
      "[notice] To update, run: python.exe -m pip install --upgrade pip\n"
     ]
    },
    {
     "name": "stdout",
     "output_type": "stream",
     "text": [
      "Requirement already satisfied: networkx in c:\\users\\qinghegao\\git\\ai-in-bio-chemical-engineering-lecture-coding\\venv\\lib\\site-packages (3.4.2)\n"
     ]
    },
    {
     "name": "stderr",
     "output_type": "stream",
     "text": [
      "\n",
      "[notice] A new release of pip is available: 24.3.1 -> 25.0.1\n",
      "[notice] To update, run: python.exe -m pip install --upgrade pip\n"
     ]
    }
   ],
   "source": [
    "!pip install rdkit\n",
    "!pip install dgl\n",
    "!pip install networkx"
   ]
  },
  {
   "cell_type": "markdown",
   "metadata": {},
   "source": [
    "## Molecualr descriptors"
   ]
  },
  {
   "cell_type": "code",
   "execution_count": 2,
   "metadata": {},
   "outputs": [
    {
     "name": "stdout",
     "output_type": "stream",
     "text": [
      "Benzene has molecular weight:  78.11399999999996\n",
      "Benzene has the number of ring:  1\n"
     ]
    }
   ],
   "source": [
    "from rdkit import Chem\n",
    "from rdkit.Chem import Descriptors\n",
    "from rdkit.Chem import Draw # For 2D representation of molecule\n",
    "\n",
    "\n",
    "# Create a molecule object for benzene\n",
    "benzene = Chem.MolFromSmiles('C1=CC=CC=C1')\n",
    "\n",
    "# Adding H-atoms to fulfil valency of C -atom \n",
    "benzene =  Chem.AddHs (benzene)\n",
    "\n",
    "# Visualize molecule in 2D\n",
    "mol_image = Draw.MolToImage (benzene) \n",
    "mol_image.show()\n",
    "\n",
    "# Calculate some molecular descriptors for benzene\n",
    "molecular_weight = Descriptors.MolWt(benzene)\n",
    "num_rings = Descriptors.RingCount(benzene)\n",
    "\n",
    "\n",
    "print('Benzene has molecular weight: ', molecular_weight)\n",
    "print('Benzene has the number of ring: ', num_rings)\n"
   ]
  },
  {
   "cell_type": "markdown",
   "metadata": {},
   "source": [
    "## Molecular graph"
   ]
  },
  {
   "cell_type": "code",
   "execution_count": null,
   "metadata": {},
   "outputs": [
    {
     "name": "stderr",
     "output_type": "stream",
     "text": [
      "\n",
      "A module that was compiled using NumPy 1.x cannot be run in\n",
      "NumPy 2.2.3 as it may crash. To support both 1.x and 2.x\n",
      "versions of NumPy, modules must be compiled with NumPy 2.0.\n",
      "Some module may need to rebuild instead e.g. with 'pybind11>=2.12'.\n",
      "\n",
      "If you are a user of the module, the easiest solution will be to\n",
      "downgrade to 'numpy<2' or try to upgrade the affected module.\n",
      "We expect that some modules will need time to support NumPy 2.\n",
      "\n",
      "Traceback (most recent call last):  File \"<frozen runpy>\", line 198, in _run_module_as_main\n",
      "  File \"<frozen runpy>\", line 88, in _run_code\n",
      "  File \"c:\\Users\\qinghegao\\git\\AI-in-Bio-Chemical-Engineering-Lecture-Coding\\venv\\Lib\\site-packages\\ipykernel_launcher.py\", line 18, in <module>\n",
      "    app.launch_new_instance()\n",
      "  File \"c:\\Users\\qinghegao\\git\\AI-in-Bio-Chemical-Engineering-Lecture-Coding\\venv\\Lib\\site-packages\\traitlets\\config\\application.py\", line 1075, in launch_instance\n",
      "    app.start()\n",
      "  File \"c:\\Users\\qinghegao\\git\\AI-in-Bio-Chemical-Engineering-Lecture-Coding\\venv\\Lib\\site-packages\\ipykernel\\kernelapp.py\", line 739, in start\n",
      "    self.io_loop.start()\n",
      "  File \"c:\\Users\\qinghegao\\git\\AI-in-Bio-Chemical-Engineering-Lecture-Coding\\venv\\Lib\\site-packages\\tornado\\platform\\asyncio.py\", line 205, in start\n",
      "    self.asyncio_loop.run_forever()\n",
      "  File \"C:\\Program Files\\Python312\\Lib\\asyncio\\base_events.py\", line 640, in run_forever\n",
      "    self._run_once()\n",
      "  File \"C:\\Program Files\\Python312\\Lib\\asyncio\\base_events.py\", line 1992, in _run_once\n",
      "    handle._run()\n",
      "  File \"C:\\Program Files\\Python312\\Lib\\asyncio\\events.py\", line 88, in _run\n",
      "    self._context.run(self._callback, *self._args)\n",
      "  File \"c:\\Users\\qinghegao\\git\\AI-in-Bio-Chemical-Engineering-Lecture-Coding\\venv\\Lib\\site-packages\\ipykernel\\kernelbase.py\", line 545, in dispatch_queue\n",
      "    await self.process_one()\n",
      "  File \"c:\\Users\\qinghegao\\git\\AI-in-Bio-Chemical-Engineering-Lecture-Coding\\venv\\Lib\\site-packages\\ipykernel\\kernelbase.py\", line 534, in process_one\n",
      "    await dispatch(*args)\n",
      "  File \"c:\\Users\\qinghegao\\git\\AI-in-Bio-Chemical-Engineering-Lecture-Coding\\venv\\Lib\\site-packages\\ipykernel\\kernelbase.py\", line 437, in dispatch_shell\n",
      "    await result\n",
      "  File \"c:\\Users\\qinghegao\\git\\AI-in-Bio-Chemical-Engineering-Lecture-Coding\\venv\\Lib\\site-packages\\ipykernel\\ipkernel.py\", line 362, in execute_request\n",
      "    await super().execute_request(stream, ident, parent)\n",
      "  File \"c:\\Users\\qinghegao\\git\\AI-in-Bio-Chemical-Engineering-Lecture-Coding\\venv\\Lib\\site-packages\\ipykernel\\kernelbase.py\", line 778, in execute_request\n",
      "    reply_content = await reply_content\n",
      "  File \"c:\\Users\\qinghegao\\git\\AI-in-Bio-Chemical-Engineering-Lecture-Coding\\venv\\Lib\\site-packages\\ipykernel\\ipkernel.py\", line 449, in do_execute\n",
      "    res = shell.run_cell(\n",
      "  File \"c:\\Users\\qinghegao\\git\\AI-in-Bio-Chemical-Engineering-Lecture-Coding\\venv\\Lib\\site-packages\\ipykernel\\zmqshell.py\", line 549, in run_cell\n",
      "    return super().run_cell(*args, **kwargs)\n",
      "  File \"c:\\Users\\qinghegao\\git\\AI-in-Bio-Chemical-Engineering-Lecture-Coding\\venv\\Lib\\site-packages\\IPython\\core\\interactiveshell.py\", line 3047, in run_cell\n",
      "    result = self._run_cell(\n",
      "  File \"c:\\Users\\qinghegao\\git\\AI-in-Bio-Chemical-Engineering-Lecture-Coding\\venv\\Lib\\site-packages\\IPython\\core\\interactiveshell.py\", line 3102, in _run_cell\n",
      "    result = runner(coro)\n",
      "  File \"c:\\Users\\qinghegao\\git\\AI-in-Bio-Chemical-Engineering-Lecture-Coding\\venv\\Lib\\site-packages\\IPython\\core\\async_helpers.py\", line 128, in _pseudo_sync_runner\n",
      "    coro.send(None)\n",
      "  File \"c:\\Users\\qinghegao\\git\\AI-in-Bio-Chemical-Engineering-Lecture-Coding\\venv\\Lib\\site-packages\\IPython\\core\\interactiveshell.py\", line 3306, in run_cell_async\n",
      "    has_raised = await self.run_ast_nodes(code_ast.body, cell_name,\n",
      "  File \"c:\\Users\\qinghegao\\git\\AI-in-Bio-Chemical-Engineering-Lecture-Coding\\venv\\Lib\\site-packages\\IPython\\core\\interactiveshell.py\", line 3489, in run_ast_nodes\n",
      "    if await self.run_code(code, result, async_=asy):\n",
      "  File \"c:\\Users\\qinghegao\\git\\AI-in-Bio-Chemical-Engineering-Lecture-Coding\\venv\\Lib\\site-packages\\IPython\\core\\interactiveshell.py\", line 3549, in run_code\n",
      "    exec(code_obj, self.user_global_ns, self.user_ns)\n",
      "  File \"C:\\Users\\qinghegao\\AppData\\Local\\Temp\\ipykernel_14920\\4293642894.py\", line 1, in <module>\n",
      "    import dgl\n",
      "  File \"c:\\Users\\qinghegao\\git\\AI-in-Bio-Chemical-Engineering-Lecture-Coding\\venv\\Lib\\site-packages\\dgl\\__init__.py\", line 14, in <module>\n",
      "    from .backend import backend_name, load_backend  # usort: skip\n",
      "  File \"c:\\Users\\qinghegao\\git\\AI-in-Bio-Chemical-Engineering-Lecture-Coding\\venv\\Lib\\site-packages\\dgl\\backend\\__init__.py\", line 122, in <module>\n",
      "    load_backend(get_preferred_backend())\n",
      "  File \"c:\\Users\\qinghegao\\git\\AI-in-Bio-Chemical-Engineering-Lecture-Coding\\venv\\Lib\\site-packages\\dgl\\backend\\__init__.py\", line 37, in load_backend\n",
      "    import torch\n",
      "  File \"c:\\Users\\qinghegao\\git\\AI-in-Bio-Chemical-Engineering-Lecture-Coding\\venv\\Lib\\site-packages\\torch\\__init__.py\", line 1471, in <module>\n",
      "    from .functional import *  # noqa: F403\n",
      "  File \"c:\\Users\\qinghegao\\git\\AI-in-Bio-Chemical-Engineering-Lecture-Coding\\venv\\Lib\\site-packages\\torch\\functional.py\", line 9, in <module>\n",
      "    import torch.nn.functional as F\n",
      "  File \"c:\\Users\\qinghegao\\git\\AI-in-Bio-Chemical-Engineering-Lecture-Coding\\venv\\Lib\\site-packages\\torch\\nn\\__init__.py\", line 1, in <module>\n",
      "    from .modules import *  # noqa: F403\n",
      "  File \"c:\\Users\\qinghegao\\git\\AI-in-Bio-Chemical-Engineering-Lecture-Coding\\venv\\Lib\\site-packages\\torch\\nn\\modules\\__init__.py\", line 35, in <module>\n",
      "    from .transformer import TransformerEncoder, TransformerDecoder, \\\n",
      "  File \"c:\\Users\\qinghegao\\git\\AI-in-Bio-Chemical-Engineering-Lecture-Coding\\venv\\Lib\\site-packages\\torch\\nn\\modules\\transformer.py\", line 20, in <module>\n",
      "    device: torch.device = torch.device(torch._C._get_default_device()),  # torch.device('cpu'),\n",
      "c:\\Users\\qinghegao\\git\\AI-in-Bio-Chemical-Engineering-Lecture-Coding\\venv\\Lib\\site-packages\\torch\\nn\\modules\\transformer.py:20: UserWarning: Failed to initialize NumPy: _ARRAY_API not found (Triggered internally at ..\\torch\\csrc\\utils\\tensor_numpy.cpp:84.)\n",
      "  device: torch.device = torch.device(torch._C._get_default_device()),  # torch.device('cpu'),\n",
      "c:\\Users\\qinghegao\\git\\AI-in-Bio-Chemical-Engineering-Lecture-Coding\\venv\\Lib\\site-packages\\tqdm\\auto.py:21: TqdmWarning: IProgress not found. Please update jupyter and ipywidgets. See https://ipywidgets.readthedocs.io/en/stable/user_install.html\n",
      "  from .autonotebook import tqdm as notebook_tqdm\n"
     ]
    },
    {
     "name": "stdout",
     "output_type": "stream",
     "text": [
      "0\n",
      "1\n",
      "2\n",
      "3\n",
      "4\n",
      "5\n",
      "6\n",
      "7\n",
      "8\n",
      "9\n",
      "10\n",
      "11\n"
     ]
    },
    {
     "data": {
      "image/png": "[encoded data removed]",
      "text/plain": [
       "<Figure size 640x480 with 1 Axes>"
      ]
     },
     "metadata": {},
     "output_type": "display_data"
    },
    {
     "name": "stdout",
     "output_type": "stream",
     "text": [
      "Graph(num_nodes=12, num_edges=24,\n",
      "      ndata_schemes={'atom_type': Scheme(shape=(2,), dtype=torch.int64)}\n",
      "      edata_schemes={'bond_type': Scheme(shape=(2,), dtype=torch.int64)})\n",
      "Node features:\n",
      "tensor([[1, 0],\n",
      "        [1, 0],\n",
      "        [1, 0],\n",
      "        [1, 0],\n",
      "        [1, 0],\n",
      "        [1, 0],\n",
      "        [0, 1],\n",
      "        [0, 1],\n",
      "        [0, 1],\n",
      "        [0, 1],\n",
      "        [0, 1],\n",
      "        [0, 1]])\n",
      "\n",
      "Edge features:\n",
      "tensor([[0, 1],\n",
      "        [0, 1],\n",
      "        [1, 0],\n",
      "        [0, 1],\n",
      "        [0, 1],\n",
      "        [1, 0],\n",
      "        [0, 1],\n",
      "        [0, 1],\n",
      "        [1, 0],\n",
      "        [0, 1],\n",
      "        [0, 1],\n",
      "        [1, 0],\n",
      "        [0, 1],\n",
      "        [0, 1],\n",
      "        [1, 0],\n",
      "        [0, 1],\n",
      "        [0, 1],\n",
      "        [1, 0],\n",
      "        [1, 0],\n",
      "        [1, 0],\n",
      "        [1, 0],\n",
      "        [1, 0],\n",
      "        [1, 0],\n",
      "        [1, 0]])\n"
     ]
    }
   ],
   "source": [
    "import dgl\n",
    "import networkx as nx\n",
    "import matplotlib.pyplot as plt\n",
    "from rdkit import Chem\n",
    "from rdkit.Chem import Draw\n",
    "import torch.nn.functional as F\n",
    "import torch\n",
    "\n",
    "# Benzene SMILES string\n",
    "smiles_string = 'C1=CC=CC=C1'\n",
    "\n",
    "# Convert SMILES string to RDKit molecule\n",
    "molecule = Chem.MolFromSmiles(smiles_string)\n",
    "\n",
    "# adding H-atoms to fulfil valency of C -atom\n",
    "molecule = Chem.AddHs(molecule)\n",
    "\n",
    "\n",
    "# Initialize an empty directed NetworkX graph\n",
    "G = nx.DiGraph()\n",
    "\n",
    "# Dynamically extract all atom types and bond types from the molecule\n",
    "atom_types = list(set([atom.GetSymbol() for atom in molecule.GetAtoms()]))\n",
    "bond_types = list(set([bond.GetBondType() for bond in molecule.GetBonds()]))\n",
    "#Example: atom_types = ['C', 'O', 'H', 'N']\n",
    "#Example: bond_types = [rdkit.Chem.rdchem.BondType.SINGLE, rdkit.Chem.rdchem.BondType.DOUBLE]\n",
    "\n",
    "# Convert atom types and bond types to indices for one-hot encoding\n",
    "atom_type_to_idx = {atom: i for i, atom in enumerate(atom_types)}\n",
    "bond_type_to_idx = {bond: i for i, bond in enumerate(bond_types)}\n",
    "#Example:atom_type_to_idx = {'C': 0, 'O': 1, 'H': 2, 'N': 3}\n",
    "# bond_type_to_idx = {rdkit.Chem.rdchem.BondType.SINGLE: 0, rdkit.Chem.rdchem.BondType.DOUBLE: 1}\n",
    "\n",
    "\n",
    "# Adding nodes with atom type as a feature\n",
    "for atom in molecule.GetAtoms():\n",
    "    atom_idx = atom.GetIdx()\n",
    "    atom_type = atom.GetSymbol()\n",
    "    atom_index = torch.tensor([atom_type_to_idx[atom_type]], dtype=torch.long)\n",
    "    one_hot_atom_type = F.one_hot(atom_index, num_classes=len(atom_types)).squeeze()\n",
    "    G.add_node(atom_idx, atom_type=one_hot_atom_type)\n",
    "\n",
    "# Adding edges with bond type as a feature\n",
    "for bond in molecule.GetBonds():\n",
    "    bond_type = bond.GetBondType()\n",
    "    begin_idx = bond.GetBeginAtomIdx()\n",
    "    end_idx = bond.GetEndAtomIdx()\n",
    "    bond_index = torch.tensor([bond_type_to_idx[bond_type]], dtype=torch.long)\n",
    "    one_hot_bond_type = F.one_hot(bond_index, num_classes=len(bond_types)).squeeze()\n",
    "\n",
    "    # Add directed edges with features for both directions\n",
    "    G.add_edge(begin_idx, end_idx, bond_type=one_hot_bond_type)\n",
    "    G.add_edge(end_idx, begin_idx, bond_type=one_hot_bond_type)\n",
    "\n",
    "\n",
    "# Convert the NetworkX graph to a DGL graph with node and edge features\n",
    "dgl_graph = dgl.from_networkx(\n",
    "    G,\n",
    "    node_attrs=['atom_type'],\n",
    "    edge_attrs=['bond_type']\n",
    ")\n",
    "\n",
    "\n",
    "\n",
    "# Visualize the graph using NetworkX\n",
    "pos = nx.spring_layout(G)  # Layout for consistent visualization\n",
    "nx.draw(\n",
    "    G, pos, with_labels=True, node_color='skyblue',\n",
    "    node_size=700, font_size=15, font_weight='bold'\n",
    ")\n",
    "plt.show()\n",
    "# Print graph information\n",
    "print(dgl_graph)\n",
    "\n",
    "# Access node and edge features\n",
    "print(\"Node features:\")\n",
    "print(dgl_graph.ndata['atom_type'])  # One-hot encoded atom types\n",
    "\n",
    "print(\"\\nEdge features:\")\n",
    "print(dgl_graph.edata['bond_type'])  # One-hot encoded bond types\n"
   ]
  },
  {
   "cell_type": "markdown",
   "metadata": {},
   "source": [
    "# Graph Neural Network"
   ]
  },
  {
   "cell_type": "code",
   "execution_count": 7,
   "metadata": {},
   "outputs": [
    {
     "name": "stdout",
     "output_type": "stream",
     "text": [
      "SimpleGCN(\n",
      "  (conv1): GraphConv(in=1, out=16, normalization=both, activation=None)\n",
      "  (conv2): GraphConv(in=16, out=2, normalization=both, activation=None)\n",
      ")\n"
     ]
    }
   ],
   "source": [
    "import dgl\n",
    "import torch\n",
    "import torch.nn as nn\n",
    "import torch.nn.functional as F\n",
    "from dgl.nn import GraphConv\n",
    "\n",
    "class SimpleGCN(nn.Module):\n",
    "    def __init__(self, in_feats, hidden_size, num_classes):\n",
    "        super(SimpleGCN, self).__init__()\n",
    "        self.conv1 = GraphConv(in_feats, hidden_size)\n",
    "        self.conv2 = GraphConv(hidden_size, num_classes)\n",
    "\n",
    "    def forward(self, g, inputs):\n",
    "        # g is the graph and inputs is the input node features\n",
    "        h = self.conv1(g, inputs)\n",
    "        h = torch.relu(h)\n",
    "        h = self.conv2(g, h)\n",
    "        return h\n",
    "\n",
    "# Example usage\n",
    "# Assume a graph `g` and input features `features` are already defined\n",
    "# g = Your graph\n",
    "# features = Your input node features as a PyTorch tensor\n",
    "# Initialize the model\n",
    "model = SimpleGCN(in_feats=1, hidden_size=16, num_classes=2)\n",
    "print(model)"
   ]
  },
  {
   "cell_type": "code",
   "execution_count": null,
   "metadata": {},
   "outputs": [],
   "source": []
  }
 ],
 "metadata": {
  "kernelspec": {
   "display_name": "venv",
   "language": "python",
   "name": "python3"
  },
  "language_info": {
   "codemirror_mode": {
    "name": "ipython",
    "version": 3
   },
   "file_extension": ".py",
   "mimetype": "text/x-python",
   "name": "python",
   "nbconvert_exporter": "python",
   "pygments_lexer": "ipython3",
   "version": "3.12.8"
  }
 },
 "nbformat": 4,
 "nbformat_minor": 2
}
