{
 "cells": [
  {
   "cell_type": "code",
   "execution_count": 9,
   "metadata": {},
   "outputs": [
    {
     "name": "stdout",
     "output_type": "stream",
     "text": [
      "Requirement already satisfied: rdkit in c:\\users\\qinghegao\\git\\ai-in-bio-chemical-engineering-lecture-coding\\venv\\lib\\site-packages (2023.9.5)"
     ]
    },
    {
     "name": "stderr",
     "output_type": "stream",
     "text": [
      "WARNING: You are using pip version 22.0.4; however, version 24.0 is available.\n",
      "You should consider upgrading via the 'C:\\Users\\qinghegao\\git\\AI-in-Bio-Chemical-Engineering-Lecture-Coding\\venv\\Scripts\\python.exe -m pip install --upgrade pip' command.\n"
     ]
    },
    {
     "name": "stdout",
     "output_type": "stream",
     "text": [
      "\n",
      "Requirement already satisfied: numpy in c:\\users\\qinghegao\\git\\ai-in-bio-chemical-engineering-lecture-coding\\venv\\lib\\site-packages (from rdkit) (1.26.4)\n",
      "Requirement already satisfied: Pillow in c:\\users\\qinghegao\\git\\ai-in-bio-chemical-engineering-lecture-coding\\venv\\lib\\site-packages (from rdkit) (10.2.0)\n",
      "Collecting dgl\n",
      "  Using cached dgl-2.0.0-cp39-cp39-win_amd64.whl (4.6 MB)\n",
      "Requirement already satisfied: networkx>=2.1 in c:\\users\\qinghegao\\git\\ai-in-bio-chemical-engineering-lecture-coding\\venv\\lib\\site-packages (from dgl) (3.2.1)\n",
      "Requirement already satisfied: requests>=2.19.0 in c:\\users\\qinghegao\\git\\ai-in-bio-chemical-engineering-lecture-coding\\venv\\lib\\site-packages (from dgl) (2.31.0)\n",
      "Requirement already satisfied: scipy>=1.1.0 in c:\\users\\qinghegao\\git\\ai-in-bio-chemical-engineering-lecture-coding\\venv\\lib\\site-packages (from dgl) (1.12.0)\n",
      "Requirement already satisfied: tqdm in c:\\users\\qinghegao\\git\\ai-in-bio-chemical-engineering-lecture-coding\\venv\\lib\\site-packages (from dgl) (4.66.2)\n",
      "Collecting torchdata>=0.5.0\n",
      "  Using cached torchdata-0.7.1-cp39-cp39-win_amd64.whl (1.3 MB)\n",
      "Requirement already satisfied: psutil>=5.8.0 in c:\\users\\qinghegao\\git\\ai-in-bio-chemical-engineering-lecture-coding\\venv\\lib\\site-packages (from dgl) (5.9.8)\n",
      "Requirement already satisfied: numpy>=1.14.0 in c:\\users\\qinghegao\\git\\ai-in-bio-chemical-engineering-lecture-coding\\venv\\lib\\site-packages (from dgl) (1.26.4)\n",
      "Requirement already satisfied: urllib3<3,>=1.21.1 in c:\\users\\qinghegao\\git\\ai-in-bio-chemical-engineering-lecture-coding\\venv\\lib\\site-packages (from requests>=2.19.0->dgl) (2.2.1)\n",
      "Requirement already satisfied: charset-normalizer<4,>=2 in c:\\users\\qinghegao\\git\\ai-in-bio-chemical-engineering-lecture-coding\\venv\\lib\\site-packages (from requests>=2.19.0->dgl) (3.3.2)\n",
      "Requirement already satisfied: idna<4,>=2.5 in c:\\users\\qinghegao\\git\\ai-in-bio-chemical-engineering-lecture-coding\\venv\\lib\\site-packages (from requests>=2.19.0->dgl) (3.6)\n",
      "Requirement already satisfied: certifi>=2017.4.17 in c:\\users\\qinghegao\\git\\ai-in-bio-chemical-engineering-lecture-coding\\venv\\lib\\site-packages (from requests>=2.19.0->dgl) (2024.2.2)\n",
      "Requirement already satisfied: torch>=2 in c:\\users\\qinghegao\\git\\ai-in-bio-chemical-engineering-lecture-coding\\venv\\lib\\site-packages (from torchdata>=0.5.0->dgl) (2.2.1)\n",
      "Requirement already satisfied: colorama in c:\\users\\qinghegao\\git\\ai-in-bio-chemical-engineering-lecture-coding\\venv\\lib\\site-packages (from tqdm->dgl) (0.4.6)\n",
      "Requirement already satisfied: sympy in c:\\users\\qinghegao\\git\\ai-in-bio-chemical-engineering-lecture-coding\\venv\\lib\\site-packages (from torch>=2->torchdata>=0.5.0->dgl) (1.12)\n",
      "Requirement already satisfied: jinja2 in c:\\users\\qinghegao\\git\\ai-in-bio-chemical-engineering-lecture-coding\\venv\\lib\\site-packages (from torch>=2->torchdata>=0.5.0->dgl) (3.1.3)\n",
      "Requirement already satisfied: fsspec in c:\\users\\qinghegao\\git\\ai-in-bio-chemical-engineering-lecture-coding\\venv\\lib\\site-packages (from torch>=2->torchdata>=0.5.0->dgl) (2024.3.0)\n",
      "Requirement already satisfied: typing-extensions>=4.8.0 in c:\\users\\qinghegao\\git\\ai-in-bio-chemical-engineering-lecture-coding\\venv\\lib\\site-packages (from torch>=2->torchdata>=0.5.0->dgl) (4.10.0)\n",
      "Requirement already satisfied: filelock in c:\\users\\qinghegao\\git\\ai-in-bio-chemical-engineering-lecture-coding\\venv\\lib\\site-packages (from torch>=2->torchdata>=0.5.0->dgl) (3.13.1)\n",
      "Requirement already satisfied: MarkupSafe>=2.0 in c:\\users\\qinghegao\\git\\ai-in-bio-chemical-engineering-lecture-coding\\venv\\lib\\site-packages (from jinja2->torch>=2->torchdata>=0.5.0->dgl) (2.1.5)\n",
      "Requirement already satisfied: mpmath>=0.19 in c:\\users\\qinghegao\\git\\ai-in-bio-chemical-engineering-lecture-coding\\venv\\lib\\site-packages (from sympy->torch>=2->torchdata>=0.5.0->dgl) (1.3.0)\n",
      "Installing collected packages: torchdata, dgl\n",
      "Successfully installed dgl-2.0.0 torchdata-0.7.1\n"
     ]
    },
    {
     "name": "stderr",
     "output_type": "stream",
     "text": [
      "WARNING: You are using pip version 22.0.4; however, version 24.0 is available.\n",
      "You should consider upgrading via the 'C:\\Users\\qinghegao\\git\\AI-in-Bio-Chemical-Engineering-Lecture-Coding\\venv\\Scripts\\python.exe -m pip install --upgrade pip' command.\n"
     ]
    }
   ],
   "source": [
    "!pip install rdkit\n",
    "!pip install dgl\n",
    "!pip install networkx"
   ]
  },
  {
   "cell_type": "markdown",
   "metadata": {},
   "source": [
    "## Molecualr descriptors"
   ]
  },
  {
   "cell_type": "code",
   "execution_count": 5,
   "metadata": {},
   "outputs": [
    {
     "name": "stdout",
     "output_type": "stream",
     "text": [
      "Benzene has molecular weight:  78.11399999999996\n",
      "Benzene has the number of ring:  1\n"
     ]
    }
   ],
   "source": [
    "from rdkit import Chem\n",
    "from rdkit.Chem import Descriptors\n",
    "from rdkit.Chem import Draw # For 2D representation of molecule\n",
    "\n",
    "\n",
    "# Create a molecule object for benzene\n",
    "benzene = Chem.MolFromSmiles('C1=CC=CC=C1')\n",
    "\n",
    "# Adding H-atoms to fulfil valency of C -atom \n",
    "benzene =  Chem.AddHs (benzene)\n",
    "\n",
    "# Visualize molecule in 2D\n",
    "mol_image = Draw.MolToImage (benzene) \n",
    "mol_image.show()\n",
    "\n",
    "# Calculate some molecular descriptors for benzene\n",
    "molecular_weight = Descriptors.MolWt(benzene)\n",
    "num_rings = Descriptors.RingCount(benzene)\n",
    "\n",
    "\n",
    "print('Benzene has molecular weight: ', molecular_weight)\n",
    "print('Benzene has the number of ring: ', num_rings)\n"
   ]
  },
  {
   "cell_type": "markdown",
   "metadata": {},
   "source": [
    "## Molecular graph"
   ]
  },
  {
   "cell_type": "code",
   "execution_count": 6,
   "metadata": {},
   "outputs": [
    {
     "data": {
      "image/png": "[encoded data removed]",
      "text/plain": [
       "<Figure size 640x480 with 1 Axes>"
      ]
     },
     "metadata": {},
     "output_type": "display_data"
    },
    {
     "data": {
      "text/plain": [
       "Graph(num_nodes=6, num_edges=12,\n",
       "      ndata_schemes={}\n",
       "      edata_schemes={})"
      ]
     },
     "execution_count": 6,
     "metadata": {},
     "output_type": "execute_result"
    }
   ],
   "source": [
    "import dgl\n",
    "import networkx as nx\n",
    "import matplotlib.pyplot as plt\n",
    "# Benzene SMILES string\n",
    "smiles_string = 'C1=CC=CC=C1'\n",
    "# Converting SMILES string to RDKit molecule\n",
    "molecule = Chem.MolFromSmiles(smiles_string)\n",
    "# Drawing the molecule\n",
    "Draw.MolToImage(molecule)\n",
    "# Creating a graph from the RDKit molecule\n",
    "# Note: DGL (Deep Graph Library) works with graphs, so we need to convert our molecule into a graph representation.\n",
    "# Each atom in the molecule can be considered as a node, and bonds as edges.\n",
    "\n",
    "# Initializing an empty graph\n",
    "G = nx.Graph()\n",
    "\n",
    "# Adding nodes with atom type as node attribute\n",
    "for atom in molecule.GetAtoms():\n",
    "    G.add_node(atom.GetIdx(), atom_type=atom.GetSymbol())\n",
    "\n",
    "# Adding edges between nodes\n",
    "for bond in molecule.GetBonds():\n",
    "    G.add_edge(bond.GetBeginAtomIdx(), bond.GetEndAtomIdx())\n",
    "\n",
    "# Visualizing the graph with NetworkX\n",
    "nx.draw(G, with_labels=True, node_color='skyblue', node_size=700, font_size=15, font_weight='bold')\n",
    "plt.show()\n",
    "# Converting the NetworkX graph to a DGL graph\n",
    "# DGL requires numerical features for nodes and edges. Here, we are simply using node indices as features.\n",
    "# In practice, you would use more informative features (e.g., atom type, bond type).\n",
    "dgl_graph = dgl.from_networkx(G)\n",
    "dgl_graph"
   ]
  },
  {
   "cell_type": "markdown",
   "metadata": {},
   "source": [
    "# Graph Neural Network"
   ]
  },
  {
   "cell_type": "code",
   "execution_count": 16,
   "metadata": {},
   "outputs": [
    {
     "name": "stdout",
     "output_type": "stream",
     "text": [
      "SimpleGCN(\n",
      "  (conv1): GraphConv(in=1, out=16, normalization=both, activation=None)\n",
      "  (conv2): GraphConv(in=16, out=2, normalization=both, activation=None)\n",
      ")\n"
     ]
    }
   ],
   "source": [
    "import dgl\n",
    "import torch\n",
    "import torch.nn as nn\n",
    "import torch.nn.functional as F\n",
    "from dgl.nn import GraphConv\n",
    "\n",
    "class SimpleGCN(nn.Module):\n",
    "    def __init__(self, in_feats, hidden_size, num_classes):\n",
    "        super(SimpleGCN, self).__init__()\n",
    "        self.conv1 = GraphConv(in_feats, hidden_size)\n",
    "        self.conv2 = GraphConv(hidden_size, num_classes)\n",
    "\n",
    "    def forward(self, g, inputs):\n",
    "        # g is the graph and inputs is the input node features\n",
    "        h = self.conv1(g, inputs)\n",
    "        h = torch.relu(h)\n",
    "        h = self.conv2(g, h)\n",
    "        return h\n",
    "\n",
    "# Example usage\n",
    "# Assume a graph `g` and input features `features` are already defined\n",
    "# g = Your graph\n",
    "# features = Your input node features as a PyTorch tensor\n",
    "# Initialize the model\n",
    "model = SimpleGCN(in_feats=1, hidden_size=16, num_classes=2)\n",
    "print(model)"
   ]
  },
  {
   "cell_type": "code",
   "execution_count": null,
   "metadata": {},
   "outputs": [],
   "source": []
  }
 ],
 "metadata": {
  "kernelspec": {
   "display_name": "venv",
   "language": "python",
   "name": "python3"
  },
  "language_info": {
   "codemirror_mode": {
    "name": "ipython",
    "version": 3
   },
   "file_extension": ".py",
   "mimetype": "text/x-python",
   "name": "python",
   "nbconvert_exporter": "python",
   "pygments_lexer": "ipython3",
   "version": "3.9.13"
  }
 },
 "nbformat": 4,
 "nbformat_minor": 2
}
