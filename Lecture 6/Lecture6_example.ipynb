{
 "cells": [
  {
   "cell_type": "code",
   "execution_count": null,
   "metadata": {},
   "outputs": [],
   "source": [
    "from rdkit import Chem\n",
    "from rdkit.Chem import AllChem\n",
    "from rdkit.Chem import Draw # For 2D representation of molecule\n",
    "import py3Dmol # For 3D representation of molecule\n",
    "import pubchempy as pcp\n",
    "# fetching the molecule from PubChem database \n",
    "compound = pcp.get_compounds ('Benzene', 'name')[0]\n",
    "\n",
    "# fetching the SMILES notation of the molecule\n",
    "smiles_compound = compound.canonical_smiles\n",
    "print('Canonical structure:', smiles_compound)\n",
    "\n",
    "# Generating the Molecular connectivities from SMILES\n",
    "mol = Chem.MolFromSmiles (smiles_compound)\n",
    "# Adding H-atoms to fulfil valency of C -atom \n",
    "mol =  Chem.AddHs (mol)\n",
    "\n",
    "# Visualize molecule in 3D\n",
    "viewer = py3Dmol.view()\n",
    "viewer.addModel (Chem.MolToMolBlock (mol), 'mol')\n",
    "viewer.setStyle({'stick': {}})\n",
    "viewer.zoomTo()\n",
    "viewer.show()\n",
    "\n",
    "# Visualize molecule in 2D\n",
    "mol_image = Draw.MolToImage (mol) \n",
    "mol_image.show()"
   ]
  },
  {
   "cell_type": "markdown",
   "metadata": {},
   "source": [
    "# Graph Neural Network"
   ]
  },
  {
   "cell_type": "markdown",
   "metadata": {},
   "source": [
    "Loading a pre-trained Graph Neural Network"
   ]
  },
  {
   "cell_type": "code",
   "execution_count": null,
   "metadata": {},
   "outputs": [],
   "source": [
    "import torch\n",
    "import dgllife\n",
    "from dgllife.data import Tox21\n",
    "from dgllife.model import load_pretrained\n",
    "from dgllife.utils import smiles_to_bigraph, CanonicalAtomFeaturizer\n",
    "\n",
    "dataset = Tox21(smiles_to_bigraph, CanonicalAtomFeaturizer())\n",
    "\n",
    "# Loading the Pretrained model \n",
    "model = load_pretrained('GCN_Tox21') \n",
    "model.eval()\n",
    "\n",
    "smiles, g, label, mask = dataset[0]\n",
    "feats = g.ndata.pop('h')\n",
    "label_pred = model(g, feats)\n",
    "print(smiles)                   # CCOc1ccc2nc(S(N)(=O)=O)sc2c1\n",
    "print(label_pred[:, mask != 0]) "
   ]
  }
 ],
 "metadata": {
  "kernelspec": {
   "display_name": "base",
   "language": "python",
   "name": "python3"
  },
  "language_info": {
   "codemirror_mode": {
    "name": "ipython",
    "version": 3
   },
   "file_extension": ".py",
   "mimetype": "text/x-python",
   "name": "python",
   "nbconvert_exporter": "python",
   "pygments_lexer": "ipython3",
   "version": "3.11.5"
  }
 },
 "nbformat": 4,
 "nbformat_minor": 2
}
