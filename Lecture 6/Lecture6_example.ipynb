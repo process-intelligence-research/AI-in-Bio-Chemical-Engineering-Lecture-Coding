{
 "cells": [
  {
   "cell_type": "code",
   "execution_count": 9,
   "metadata": {},
   "outputs": [
    {
     "name": "stdout",
     "output_type": "stream",
     "text": [
      "Requirement already satisfied: rdkit in c:\\users\\qinghegao\\git\\ai-in-bio-chemical-engineering-lecture-coding\\venv\\lib\\site-packages (2023.9.5)"
     ]
    },
    {
     "name": "stderr",
     "output_type": "stream",
     "text": [
      "WARNING: You are using pip version 22.0.4; however, version 24.0 is available.\n",
      "You should consider upgrading via the 'C:\\Users\\qinghegao\\git\\AI-in-Bio-Chemical-Engineering-Lecture-Coding\\venv\\Scripts\\python.exe -m pip install --upgrade pip' command.\n"
     ]
    },
    {
     "name": "stdout",
     "output_type": "stream",
     "text": [
      "\n",
      "Requirement already satisfied: numpy in c:\\users\\qinghegao\\git\\ai-in-bio-chemical-engineering-lecture-coding\\venv\\lib\\site-packages (from rdkit) (1.26.4)\n",
      "Requirement already satisfied: Pillow in c:\\users\\qinghegao\\git\\ai-in-bio-chemical-engineering-lecture-coding\\venv\\lib\\site-packages (from rdkit) (10.2.0)\n",
      "Collecting dgl\n",
      "  Using cached dgl-2.0.0-cp39-cp39-win_amd64.whl (4.6 MB)\n",
      "Requirement already satisfied: networkx>=2.1 in c:\\users\\qinghegao\\git\\ai-in-bio-chemical-engineering-lecture-coding\\venv\\lib\\site-packages (from dgl) (3.2.1)\n",
      "Requirement already satisfied: requests>=2.19.0 in c:\\users\\qinghegao\\git\\ai-in-bio-chemical-engineering-lecture-coding\\venv\\lib\\site-packages (from dgl) (2.31.0)\n",
      "Requirement already satisfied: scipy>=1.1.0 in c:\\users\\qinghegao\\git\\ai-in-bio-chemical-engineering-lecture-coding\\venv\\lib\\site-packages (from dgl) (1.12.0)\n",
      "Requirement already satisfied: tqdm in c:\\users\\qinghegao\\git\\ai-in-bio-chemical-engineering-lecture-coding\\venv\\lib\\site-packages (from dgl) (4.66.2)\n",
      "Collecting torchdata>=0.5.0\n",
      "  Using cached torchdata-0.7.1-cp39-cp39-win_amd64.whl (1.3 MB)\n",
      "Requirement already satisfied: psutil>=5.8.0 in c:\\users\\qinghegao\\git\\ai-in-bio-chemical-engineering-lecture-coding\\venv\\lib\\site-packages (from dgl) (5.9.8)\n",
      "Requirement already satisfied: numpy>=1.14.0 in c:\\users\\qinghegao\\git\\ai-in-bio-chemical-engineering-lecture-coding\\venv\\lib\\site-packages (from dgl) (1.26.4)\n",
      "Requirement already satisfied: urllib3<3,>=1.21.1 in c:\\users\\qinghegao\\git\\ai-in-bio-chemical-engineering-lecture-coding\\venv\\lib\\site-packages (from requests>=2.19.0->dgl) (2.2.1)\n",
      "Requirement already satisfied: charset-normalizer<4,>=2 in c:\\users\\qinghegao\\git\\ai-in-bio-chemical-engineering-lecture-coding\\venv\\lib\\site-packages (from requests>=2.19.0->dgl) (3.3.2)\n",
      "Requirement already satisfied: idna<4,>=2.5 in c:\\users\\qinghegao\\git\\ai-in-bio-chemical-engineering-lecture-coding\\venv\\lib\\site-packages (from requests>=2.19.0->dgl) (3.6)\n",
      "Requirement already satisfied: certifi>=2017.4.17 in c:\\users\\qinghegao\\git\\ai-in-bio-chemical-engineering-lecture-coding\\venv\\lib\\site-packages (from requests>=2.19.0->dgl) (2024.2.2)\n",
      "Requirement already satisfied: torch>=2 in c:\\users\\qinghegao\\git\\ai-in-bio-chemical-engineering-lecture-coding\\venv\\lib\\site-packages (from torchdata>=0.5.0->dgl) (2.2.1)\n",
      "Requirement already satisfied: colorama in c:\\users\\qinghegao\\git\\ai-in-bio-chemical-engineering-lecture-coding\\venv\\lib\\site-packages (from tqdm->dgl) (0.4.6)\n",
      "Requirement already satisfied: sympy in c:\\users\\qinghegao\\git\\ai-in-bio-chemical-engineering-lecture-coding\\venv\\lib\\site-packages (from torch>=2->torchdata>=0.5.0->dgl) (1.12)\n",
      "Requirement already satisfied: jinja2 in c:\\users\\qinghegao\\git\\ai-in-bio-chemical-engineering-lecture-coding\\venv\\lib\\site-packages (from torch>=2->torchdata>=0.5.0->dgl) (3.1.3)\n",
      "Requirement already satisfied: fsspec in c:\\users\\qinghegao\\git\\ai-in-bio-chemical-engineering-lecture-coding\\venv\\lib\\site-packages (from torch>=2->torchdata>=0.5.0->dgl) (2024.3.0)\n",
      "Requirement already satisfied: typing-extensions>=4.8.0 in c:\\users\\qinghegao\\git\\ai-in-bio-chemical-engineering-lecture-coding\\venv\\lib\\site-packages (from torch>=2->torchdata>=0.5.0->dgl) (4.10.0)\n",
      "Requirement already satisfied: filelock in c:\\users\\qinghegao\\git\\ai-in-bio-chemical-engineering-lecture-coding\\venv\\lib\\site-packages (from torch>=2->torchdata>=0.5.0->dgl) (3.13.1)\n",
      "Requirement already satisfied: MarkupSafe>=2.0 in c:\\users\\qinghegao\\git\\ai-in-bio-chemical-engineering-lecture-coding\\venv\\lib\\site-packages (from jinja2->torch>=2->torchdata>=0.5.0->dgl) (2.1.5)\n",
      "Requirement already satisfied: mpmath>=0.19 in c:\\users\\qinghegao\\git\\ai-in-bio-chemical-engineering-lecture-coding\\venv\\lib\\site-packages (from sympy->torch>=2->torchdata>=0.5.0->dgl) (1.3.0)\n",
      "Installing collected packages: torchdata, dgl\n",
      "Successfully installed dgl-2.0.0 torchdata-0.7.1\n"
     ]
    },
    {
     "name": "stderr",
     "output_type": "stream",
     "text": [
      "WARNING: You are using pip version 22.0.4; however, version 24.0 is available.\n",
      "You should consider upgrading via the 'C:\\Users\\qinghegao\\git\\AI-in-Bio-Chemical-Engineering-Lecture-Coding\\venv\\Scripts\\python.exe -m pip install --upgrade pip' command.\n"
     ]
    }
   ],
   "source": [
    "!pip install rdkit\n",
    "!pip install dgl\n",
    "!pip install networkx"
   ]
  },
  {
   "cell_type": "markdown",
   "metadata": {},
   "source": [
    "## Molecualr descriptors"
   ]
  },
  {
   "cell_type": "code",
   "execution_count": 8,
   "metadata": {},
   "outputs": [
    {
     "name": "stdout",
     "output_type": "stream",
     "text": [
      "Benzene has molecular weight:  78.11399999999996\n",
      "Benzene has hydrophobicity:  1.6866\n",
      "Benzene has the number of right count:  1\n"
     ]
    }
   ],
   "source": [
    "from rdkit import Chem\n",
    "from rdkit.Chem import Descriptors\n",
    "from rdkit.Chem import Draw # For 2D representation of molecule\n",
    "\n",
    "\n",
    "# Create a molecule object for benzene\n",
    "benzene = Chem.MolFromSmiles('c1ccccc1')\n",
    "\n",
    "# Adding H-atoms to fulfil valency of C -atom \n",
    "benzene =  Chem.AddHs (benzene)\n",
    "\n",
    "# Visualize molecule in 2D\n",
    "mol_image = Draw.MolToImage (benzene) \n",
    "mol_image.show()\n",
    "\n",
    "# Calculate some molecular descriptors for benzene\n",
    "molecular_weight = Descriptors.MolWt(benzene)\n",
    "logP = Descriptors.MolLogP(benzene)\n",
    "num_rings = Descriptors.RingCount(benzene)\n",
    "\n",
    "\n",
    "print('Benzene has molecular weight: ', molecular_weight)\n",
    "print('Benzene has hydrophobicity: ', logP)\n",
    "print('Benzene has the number of right count: ', num_rings)\n"
   ]
  },
  {
   "cell_type": "markdown",
   "metadata": {},
   "source": [
    "## Molecular graph"
   ]
  },
  {
   "cell_type": "code",
   "execution_count": 11,
   "metadata": {},
   "outputs": [
    {
     "data": {
      "image/png": "[encoded data removed]",
      "text/plain": [
       "<Figure size 640x480 with 1 Axes>"
      ]
     },
     "metadata": {},
     "output_type": "display_data"
    }
   ],
   "source": [
    "import dgl\n",
    "import torch\n",
    "import networkx as nx\n",
    "import matplotlib.pyplot as plt\n",
    "# Step 1: Create a graph for benzene. Benzene has 6 carbon atoms.\n",
    "g = dgl.graph(([0, 1, 2, 3, 4, 5, 0, 1, 2, 3, 4, 5], \n",
    "               [1, 2, 3, 4, 5, 0, 5, 0, 1, 2, 3, 4]))  # Adding edges for the ring structure and its reverse\n",
    "# Add node features - all nodes are carbon in benzene, \n",
    "# but let's assign them an arbitrary feature for demonstration, such as atomic number 6 for carbon.\n",
    "g.ndata['atomic_number'] = torch.tensor([6, 6, 6, 6, 6, 6])\n",
    "\n",
    "# Add edge features - for simplicity, let's assume all bonds are single (feature value 1)\n",
    "# In reality, you would distinguish between single and double bonds.\n",
    "g.edata['bond_type'] = torch.tensor([1, 1, 1, 1, 1, 1, 1, 1, 1, 1, 1, 1])\n",
    "\n",
    "# Step 3: Visualize the graph (This step requires additional libraries like networkx and matplotlib)\n",
    "# Convert to networkx graph to visualize\n",
    "\n",
    "nx_g = g.to_networkx().to_undirected()\n",
    "pos = nx.circular_layout(nx_g)  # Position nodes in a circle\n",
    "nx.draw(nx_g, pos, with_labels=True, node_color='skyblue', node_size=700, edge_color='k')\n",
    "plt.show()"
   ]
  },
  {
   "cell_type": "markdown",
   "metadata": {},
   "source": [
    "# Graph Neural Network"
   ]
  },
  {
   "cell_type": "code",
   "execution_count": 16,
   "metadata": {},
   "outputs": [
    {
     "name": "stdout",
     "output_type": "stream",
     "text": [
      "SimpleGCN(\n",
      "  (conv1): GraphConv(in=1, out=16, normalization=both, activation=None)\n",
      "  (conv2): GraphConv(in=16, out=2, normalization=both, activation=None)\n",
      ")\n"
     ]
    }
   ],
   "source": [
    "import dgl\n",
    "import torch\n",
    "import torch.nn as nn\n",
    "import torch.nn.functional as F\n",
    "from dgl.nn import GraphConv\n",
    "\n",
    "class SimpleGCN(nn.Module):\n",
    "    def __init__(self, in_feats, hidden_size, num_classes):\n",
    "        super(SimpleGCN, self).__init__()\n",
    "        self.conv1 = GraphConv(in_feats, hidden_size)\n",
    "        self.conv2 = GraphConv(hidden_size, num_classes)\n",
    "\n",
    "    def forward(self, g, inputs):\n",
    "        # g is the graph and inputs is the input node features\n",
    "        h = self.conv1(g, inputs)\n",
    "        h = torch.relu(h)\n",
    "        h = self.conv2(g, h)\n",
    "        return h\n",
    "\n",
    "# Example usage\n",
    "# Assume a graph `g` and input features `features` are already defined\n",
    "# g = Your graph\n",
    "# features = Your input node features as a PyTorch tensor\n",
    "# Initialize the model\n",
    "model = SimpleGCN(in_feats=1, hidden_size=16, num_classes=2)\n",
    "print(model)"
   ]
  },
  {
   "cell_type": "code",
   "execution_count": null,
   "metadata": {},
   "outputs": [],
   "source": []
  }
 ],
 "metadata": {
  "kernelspec": {
   "display_name": "base",
   "language": "python",
   "name": "python3"
  },
  "language_info": {
   "codemirror_mode": {
    "name": "ipython",
    "version": 3
   },
   "file_extension": ".py",
   "mimetype": "text/x-python",
   "name": "python",
   "nbconvert_exporter": "python",
   "pygments_lexer": "ipython3",
   "version": "3.9.13"
  }
 },
 "nbformat": 4,
 "nbformat_minor": 2
}
